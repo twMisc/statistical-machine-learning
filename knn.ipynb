{
 "cells": [
  {
   "cell_type": "markdown",
   "metadata": {},
   "source": [
    "## $k$-nearest neighbor classifier with $k$ chosen by cross validation"
   ]
  },
  {
   "cell_type": "code",
   "execution_count": 8,
   "metadata": {},
   "outputs": [],
   "source": [
    "#function U=knn(X,Y,T,ks)\n",
    "#m=size(T,2); D2=repmat(sum(T.^2,1),[size(X,2) 1]);\n",
    "#D2=D2+repmat(sum(X.^2,1)',[1 m])-2*X'*T; [dum,z]=sort(D2,1);\n",
    "#for i=1:length(ks)\n",
    "#k=ks(i);\n",
    "#for j=1:m\n",
    "#Z=sort(Y(z(1:k,j))); g=find([1 Z(1:end-1)~=Z(2:end)]);\n",
    "#[dum,a]= max([g(2:end) k+1]-g); U(i,j)=Z(g(a));\n",
    "#end, end"
   ]
  },
  {
   "cell_type": "code",
   "execution_count": 9,
   "metadata": {},
   "outputs": [],
   "source": [
    "#load digit.mat X T; [d,m,c]=size(X); X=reshape(X,[d m*c]);\n",
    "#Y=reshape(repmat([1:c],[m 1]),[1 m*c]);\n",
    "#ks=[1:10]; t=5; v=mod(randperm(m*c),t)+1;\n",
    "#for i=1:t\n",
    "#Yh=knn(X(:,v~=i),Y(v~=i),X(:,v==i),ks);\n",
    "#s(i,:)=mean(Yh~=repmat(Y(v==i),[length(ks) 1]),2);\n",
    "#end\n",
    "#[dum,a]=min(mean(s)); k=ks(a); [d,r,c]=size(T);\n",
    "#T=reshape(T,[d r*c]); U=reshape(knn(X,Y,T,k),[r c]);\n",
    "#for i=1:c, C(:,i)=sum(U==i); end, C, sum(diag(C))/sum(sum(C))"
   ]
  },
  {
   "cell_type": "code",
   "execution_count": 10,
   "metadata": {},
   "outputs": [],
   "source": [
    "import numpy as np\n",
    "#import numpy.matlib\n",
    "from scipy import io"
   ]
  },
  {
   "cell_type": "code",
   "execution_count": 18,
   "metadata": {},
   "outputs": [],
   "source": [
    "def knn(X,Y,T,ks):\n",
    "    m=np.size(T,1);D2=np.kron(np.ones((np.size(X,1),1)), np.sum(T*T,0));\n",
    "    D2=D2+np.kron(np.ones((m,1)), np.transpose(np.sum(X*X,0))).T-2*np.transpose(X)@T;\n",
    "    dum=np.sort(D2,0);z=np.argsort(D2,0);\n",
    "    U=np.zeros((len(ks),m));\n",
    "    for i in range(1,len(ks)+1):\n",
    "        k=ks[i-1];\n",
    "        for j in range(1,m+1):\n",
    "            Z=np.sort(Y[z[0:k,j-1]]);\n",
    "            g=np.nonzero(np.insert([1],0,Z[1:len(Z)-1]!=Z[2:len(Z)]))[0];\n",
    "            dum=np.max(np.append(g[1:len(g)],[k+1])-g);a=np.argmax(np.append(g[1:len(g)],[k+1])-g)\n",
    "            U[i-1,j-1]=Z[g[a]];\n",
    "    return U"
   ]
  },
  {
   "cell_type": "code",
   "execution_count": 60,
   "metadata": {},
   "outputs": [],
   "source": [
    "mat = io.loadmat('digit.mat');\n",
    "X=mat['X'];\n",
    "X=X[:,0:399,:];\n",
    "T=mat['T'];\n",
    "d=np.size(X,0);m=np.size(X,1);c=np.size(X,2);\n",
    "X=X.reshape(d,m*c,order='F').copy();\n",
    "Y=np.kron(np.ones((m,1)),range(1,c+1)).reshape(m*c,order='F')\n",
    "ks=range(1,10+1);t=5; v=np.mod(np.random.permutation(m*c)+1,t)+1;"
   ]
  },
  {
   "cell_type": "code",
   "execution_count": 61,
   "metadata": {},
   "outputs": [
    {
     "name": "stdout",
     "output_type": "stream",
     "text": [
      "Confusion matrix:\n",
      "[[200.   0.   0.   0.   0.   0.   0.   0.   0.   0.]\n",
      " [  0. 192.   2.   0.   0.   0.   2.   3.   1.   0.]\n",
      " [  0.   0. 195.   0.   3.   0.   0.   1.   1.   0.]\n",
      " [  0.   0.   0. 190.   1.   2.   0.   0.   7.   0.]\n",
      " [  0.   2.   4.   0. 188.   0.   1.   1.   2.   2.]\n",
      " [  0.   2.   0.   0.   2. 195.   0.   0.   0.   1.]\n",
      " [  0.   0.   1.   2.   0.   0. 193.   1.   3.   0.]\n",
      " [  0.   1.   5.   0.   1.   0.   0. 188.   2.   3.]\n",
      " [  0.   0.   0.   2.   0.   0.   1.   1. 196.   0.]\n",
      " [  0.   1.   1.   0.   0.   1.   0.   0.   0. 197.]]\n"
     ]
    }
   ],
   "source": [
    "s=np.zeros((t,len(ks)));\n",
    "for i in range(1,t+1):\n",
    "    Yh=knn(X[:,v!=i],Y[v!=i],X[:,v==i],ks);\n",
    "    s[i-1,:]=np.mean(Yh!=np.kron(np.ones((len(ks),1)), Y[v==i]),axis=1);\n",
    "dum=np.min(np.mean(s));a=np.argmin(np.mean(s));k=ks[a];[d,r,c]=T.shape;\n",
    "T=T.reshape(d,r*c,order='F').copy();U=(knn(X,Y,T,[k])).reshape(r,c,order='F').copy();\n",
    "C=np.zeros((c,c));\n",
    "for i in range(1,c+1):\n",
    "    C[:,i-1]=np.sum(U==i,0);\n",
    "print(\"Confusion matrix:\\n%s\" % C)"
   ]
  },
  {
   "cell_type": "code",
   "execution_count": 62,
   "metadata": {},
   "outputs": [
    {
     "data": {
      "text/plain": [
       "0.967"
      ]
     },
     "execution_count": 62,
     "metadata": {},
     "output_type": "execute_result"
    }
   ],
   "source": [
    "np.sum(np.diag(C),0)/np.sum(np.sum(C))"
   ]
  },
  {
   "cell_type": "code",
   "execution_count": null,
   "metadata": {},
   "outputs": [],
   "source": []
  }
 ],
 "metadata": {
  "@webio": {
   "lastCommId": null,
   "lastKernelId": null
  },
  "kernelspec": {
   "display_name": "Python 3",
   "language": "python",
   "name": "python3"
  },
  "language_info": {
   "codemirror_mode": {
    "name": "ipython",
    "version": 3
   },
   "file_extension": ".py",
   "mimetype": "text/x-python",
   "name": "python",
   "nbconvert_exporter": "python",
   "pygments_lexer": "ipython3",
   "version": "3.7.4"
  }
 },
 "nbformat": 4,
 "nbformat_minor": 2
}
