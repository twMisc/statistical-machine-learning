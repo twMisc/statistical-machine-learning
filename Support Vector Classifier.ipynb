{
 "cells": [
  {
   "cell_type": "code",
   "execution_count": 1,
   "metadata": {},
   "outputs": [],
   "source": [
    "import numpy as np\n",
    "#import numpy.matlib\n",
    "from scipy import io\n",
    "import matplotlib.pyplot as plt\n",
    "# Import datasets, classifiers and performance metrics\n",
    "from sklearn import svm, metrics"
   ]
  },
  {
   "cell_type": "code",
   "execution_count": 2,
   "metadata": {},
   "outputs": [],
   "source": [
    "mat = io.loadmat('digit.mat');\n",
    "X=mat['X'];\n",
    "T=mat['T'];\n",
    "d=np.size(X,0);m=np.size(X,1);c=np.size(X,2);\n",
    "X=X.reshape(d,m*c,order='F').copy();\n",
    "Y=np.kron(np.ones((m,1)),range(1,c+1)).reshape(m*c,order='F')\n",
    "ks=range(1,10+1);t=5; v=np.mod(np.random.permutation(m*c)+1,t)+1;\n",
    "\n",
    "[d,r,c]=T.shape;\n",
    "T=T.reshape(d,r*c,order='F').copy()\n",
    "Y2=np.kron(np.ones((r,1)),range(1,c+1)).reshape(r*c,order='F')"
   ]
  },
  {
   "cell_type": "code",
   "execution_count": 3,
   "metadata": {},
   "outputs": [
    {
     "data": {
      "text/plain": [
       "SVC(C=1.0, break_ties=False, cache_size=200, class_weight=None, coef0=0.0,\n",
       "    decision_function_shape='ovr', degree=3, gamma=0.01, kernel='rbf',\n",
       "    max_iter=-1, probability=False, random_state=None, shrinking=True,\n",
       "    tol=0.001, verbose=False)"
      ]
     },
     "execution_count": 3,
     "metadata": {},
     "output_type": "execute_result"
    }
   ],
   "source": [
    "classifier = svm.SVC(gamma=0.01)\n",
    "classifier.fit(X.T, Y.T)"
   ]
  },
  {
   "cell_type": "code",
   "execution_count": 4,
   "metadata": {},
   "outputs": [
    {
     "data": {
      "image/png": "[encoded data removed]",
      "text/plain": [
       "<Figure size 432x288 with 2 Axes>"
      ]
     },
     "metadata": {
      "needs_background": "light"
     },
     "output_type": "display_data"
    }
   ],
   "source": [
    "disp = metrics.plot_confusion_matrix(classifier,T.T , Y2);"
   ]
  },
  {
   "cell_type": "code",
   "execution_count": 5,
   "metadata": {},
   "outputs": [
    {
     "name": "stdout",
     "output_type": "stream",
     "text": [
      "Confusion matrix:\n",
      "[[199   0   0   0   1   0   0   0   0   0]\n",
      " [  0 193   0   4   0   0   0   3   0   0]\n",
      " [  0   1 193   0   4   0   1   1   0   0]\n",
      " [  1   0   0 193   1   3   0   0   2   0]\n",
      " [  0   1   3   2 189   0   0   0   3   2]\n",
      " [  0   2   0   0   2 195   0   0   0   1]\n",
      " [  0   0   0   5   0   0 190   2   3   0]\n",
      " [  0   1   3   0   5   1   0 188   1   1]\n",
      " [  0   0   0   2   0   0   1   0 197   0]\n",
      " [  0   2   0   0   1   0   0   0   0 197]]\n"
     ]
    }
   ],
   "source": [
    "disp.figure_.suptitle(\"Confusion Matrix\")\n",
    "print(\"Confusion matrix:\\n%s\" % disp.confusion_matrix)"
   ]
  },
  {
   "cell_type": "code",
   "execution_count": 6,
   "metadata": {},
   "outputs": [
    {
     "data": {
      "text/plain": [
       "0.967"
      ]
     },
     "execution_count": 6,
     "metadata": {},
     "output_type": "execute_result"
    }
   ],
   "source": [
    "np.sum(np.diag(disp.confusion_matrix),0)/np.sum(np.sum(disp.confusion_matrix))"
   ]
  },
  {
   "cell_type": "code",
   "execution_count": null,
   "metadata": {},
   "outputs": [],
   "source": []
  }
 ],
 "metadata": {
  "@webio": {
   "lastCommId": null,
   "lastKernelId": null
  },
  "kernelspec": {
   "display_name": "Python 3",
   "language": "python",
   "name": "python3"
  },
  "language_info": {
   "codemirror_mode": {
    "name": "ipython",
    "version": 3
   },
   "file_extension": ".py",
   "mimetype": "text/x-python",
   "name": "python",
   "nbconvert_exporter": "python",
   "pygments_lexer": "ipython3",
   "version": "3.7.4"
  }
 },
 "nbformat": 4,
 "nbformat_minor": 2
}
